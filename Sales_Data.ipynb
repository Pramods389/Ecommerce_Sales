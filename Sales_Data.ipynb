{
 "cells": [
  {
   "cell_type": "markdown",
   "id": "5b4c1595-26fd-41d0-abbd-a325a2050224",
   "metadata": {},
   "source": [
    "## **Data Cleaning:**"
   ]
  },
  {
   "cell_type": "code",
   "execution_count": 65,
   "id": "64ca2a7c-1383-4b14-bcf5-dea75b91cf78",
   "metadata": {},
   "outputs": [],
   "source": [
    "import pandas as pd\n",
    "import numpy as np\n",
    "import matplotlib.pyplot as plt"
   ]
  },
  {
   "cell_type": "code",
   "execution_count": 67,
   "id": "0bbf0381-c00c-47c6-b89d-644d955547e9",
   "metadata": {},
   "outputs": [
    {
     "data": {
      "text/html": [
       "<div>\n",
       "<style scoped>\n",
       "    .dataframe tbody tr th:only-of-type {\n",
       "        vertical-align: middle;\n",
       "    }\n",
       "\n",
       "    .dataframe tbody tr th {\n",
       "        vertical-align: top;\n",
       "    }\n",
       "\n",
       "    .dataframe thead th {\n",
       "        text-align: right;\n",
       "    }\n",
       "</style>\n",
       "<table border=\"1\" class=\"dataframe\">\n",
       "  <thead>\n",
       "    <tr style=\"text-align: right;\">\n",
       "      <th></th>\n",
       "      <th>Customer_ID</th>\n",
       "      <th>Gender</th>\n",
       "      <th>Age</th>\n",
       "      <th>State</th>\n",
       "      <th>Occupation</th>\n",
       "      <th>Orders</th>\n",
       "      <th>Amount</th>\n",
       "    </tr>\n",
       "  </thead>\n",
       "  <tbody>\n",
       "    <tr>\n",
       "      <th>0</th>\n",
       "      <td>CUST1000</td>\n",
       "      <td>f</td>\n",
       "      <td>49.0</td>\n",
       "      <td>delhi</td>\n",
       "      <td>Engineer</td>\n",
       "      <td>7.0</td>\n",
       "      <td>Three Hundred</td>\n",
       "    </tr>\n",
       "    <tr>\n",
       "      <th>1</th>\n",
       "      <td>CUST1001</td>\n",
       "      <td>NaN</td>\n",
       "      <td>22.0</td>\n",
       "      <td>maharastra</td>\n",
       "      <td>NaN</td>\n",
       "      <td>8.0</td>\n",
       "      <td>500</td>\n",
       "    </tr>\n",
       "    <tr>\n",
       "      <th>2</th>\n",
       "      <td>CUST1002</td>\n",
       "      <td>f</td>\n",
       "      <td>48.0</td>\n",
       "      <td>Delhi</td>\n",
       "      <td>Teacher</td>\n",
       "      <td>9.0</td>\n",
       "      <td>500</td>\n",
       "    </tr>\n",
       "    <tr>\n",
       "      <th>3</th>\n",
       "      <td>CUST1003</td>\n",
       "      <td>NaN</td>\n",
       "      <td>24.0</td>\n",
       "      <td>Delhi</td>\n",
       "      <td>Lawyer</td>\n",
       "      <td>9.0</td>\n",
       "      <td>500</td>\n",
       "    </tr>\n",
       "    <tr>\n",
       "      <th>4</th>\n",
       "      <td>CUST1004</td>\n",
       "      <td>NaN</td>\n",
       "      <td>22.0</td>\n",
       "      <td>KA</td>\n",
       "      <td>NaN</td>\n",
       "      <td>9.0</td>\n",
       "      <td>500</td>\n",
       "    </tr>\n",
       "    <tr>\n",
       "      <th>5</th>\n",
       "      <td>CUST1005</td>\n",
       "      <td>M</td>\n",
       "      <td>27.0</td>\n",
       "      <td>NaN</td>\n",
       "      <td>engineer</td>\n",
       "      <td>NaN</td>\n",
       "      <td>500</td>\n",
       "    </tr>\n",
       "    <tr>\n",
       "      <th>6</th>\n",
       "      <td>CUST1006</td>\n",
       "      <td>NaN</td>\n",
       "      <td>30.0</td>\n",
       "      <td>delhi</td>\n",
       "      <td>engineer</td>\n",
       "      <td>NaN</td>\n",
       "      <td>NaN</td>\n",
       "    </tr>\n",
       "    <tr>\n",
       "      <th>7</th>\n",
       "      <td>CUST1007</td>\n",
       "      <td>Male</td>\n",
       "      <td>39.0</td>\n",
       "      <td>Karnataka</td>\n",
       "      <td>Engineer</td>\n",
       "      <td>5.0</td>\n",
       "      <td>NaN</td>\n",
       "    </tr>\n",
       "    <tr>\n",
       "      <th>8</th>\n",
       "      <td>CUST1008</td>\n",
       "      <td>Male</td>\n",
       "      <td>29.0</td>\n",
       "      <td>Delhi</td>\n",
       "      <td>NaN</td>\n",
       "      <td>6.0</td>\n",
       "      <td>300</td>\n",
       "    </tr>\n",
       "    <tr>\n",
       "      <th>9</th>\n",
       "      <td>CUST1009</td>\n",
       "      <td>M</td>\n",
       "      <td>37.0</td>\n",
       "      <td>NaN</td>\n",
       "      <td>Artist</td>\n",
       "      <td>7.0</td>\n",
       "      <td>500</td>\n",
       "    </tr>\n",
       "  </tbody>\n",
       "</table>\n",
       "</div>"
      ],
      "text/plain": [
       "  Customer_ID Gender   Age       State Occupation  Orders         Amount\n",
       "0    CUST1000      f  49.0       delhi   Engineer     7.0  Three Hundred\n",
       "1    CUST1001    NaN  22.0  maharastra        NaN     8.0            500\n",
       "2    CUST1002      f  48.0       Delhi    Teacher     9.0            500\n",
       "3    CUST1003    NaN  24.0       Delhi     Lawyer     9.0            500\n",
       "4    CUST1004    NaN  22.0          KA        NaN     9.0            500\n",
       "5    CUST1005      M  27.0         NaN   engineer     NaN            500\n",
       "6    CUST1006    NaN  30.0       delhi   engineer     NaN            NaN\n",
       "7    CUST1007   Male  39.0   Karnataka   Engineer     5.0            NaN\n",
       "8    CUST1008   Male  29.0       Delhi        NaN     6.0            300\n",
       "9    CUST1009      M  37.0         NaN     Artist     7.0            500"
      ]
     },
     "execution_count": 67,
     "metadata": {},
     "output_type": "execute_result"
    }
   ],
   "source": [
    "df = pd.read_csv(r\"C:\\Users\\BHUMIKA\\Downloads\\messy_sales_data.csv\",encoding=\"unicode_escape\")\n",
    "df.head(10)"
   ]
  },
  {
   "cell_type": "code",
   "execution_count": 69,
   "id": "854cf766-3e83-4406-ad0a-397b0e36a6f7",
   "metadata": {},
   "outputs": [
    {
     "name": "stdout",
     "output_type": "stream",
     "text": [
      "<class 'pandas.core.frame.DataFrame'>\n",
      "RangeIndex: 1030 entries, 0 to 1029\n",
      "Data columns (total 7 columns):\n",
      " #   Column       Non-Null Count  Dtype  \n",
      "---  ------       --------------  -----  \n",
      " 0   Customer_ID  1030 non-null   object \n",
      " 1   Gender       868 non-null    object \n",
      " 2   Age          933 non-null    float64\n",
      " 3   State        905 non-null    object \n",
      " 4   Occupation   888 non-null    object \n",
      " 5   Orders       981 non-null    float64\n",
      " 6   Amount       888 non-null    object \n",
      "dtypes: float64(2), object(5)\n",
      "memory usage: 56.5+ KB\n"
     ]
    }
   ],
   "source": [
    "df.info()"
   ]
  },
  {
   "cell_type": "code",
   "execution_count": 71,
   "id": "fea7305c-dd42-4495-b68c-69d0438234d8",
   "metadata": {},
   "outputs": [
    {
     "data": {
      "text/plain": [
       "Customer_ID      0\n",
       "Gender         162\n",
       "Age             97\n",
       "State          125\n",
       "Occupation     142\n",
       "Orders          49\n",
       "Amount         142\n",
       "dtype: int64"
      ]
     },
     "execution_count": 71,
     "metadata": {},
     "output_type": "execute_result"
    }
   ],
   "source": [
    "df.isnull().sum()"
   ]
  },
  {
   "cell_type": "code",
   "execution_count": 256,
   "id": "d488f5de-d1dc-4cd9-bc29-343119ce470b",
   "metadata": {},
   "outputs": [],
   "source": [
    "# Create a new Product_Category column and use numpy and insert random values.\n",
    "categories = ['Electronics', 'Clothing', 'Home', 'Books', 'Beauty']\n",
    "\n",
    "# Randomly assign a product category to each row\n",
    "np.random.seed(42) \n",
    "df['Product_Category'] = np.random.choice(categories, size=len(df))\n"
   ]
  },
  {
   "cell_type": "code",
   "execution_count": 73,
   "id": "f8bb503a-a3e1-4435-9c6b-907510b262fd",
   "metadata": {},
   "outputs": [
    {
     "data": {
      "text/plain": [
       "array(['f', nan, 'M', 'Male', 'F', 'Female'], dtype=object)"
      ]
     },
     "execution_count": 73,
     "metadata": {},
     "output_type": "execute_result"
    }
   ],
   "source": [
    "df['Gender'].unique()"
   ]
  },
  {
   "cell_type": "code",
   "execution_count": 75,
   "id": "3187750f-8e43-46fc-96a7-3fbf3145dfcb",
   "metadata": {},
   "outputs": [],
   "source": [
    "df['Gender']=df['Gender'].replace({'f':'Female','M':'Male','F':'Female'}) #replaced and grouped the values into Male and Female\n",
    "df['Gender']=df['Gender'].fillna('Not specified')"
   ]
  },
  {
   "cell_type": "code",
   "execution_count": 77,
   "id": "4443f5f6-b16d-404e-980c-fe22d8774c26",
   "metadata": {},
   "outputs": [
    {
     "data": {
      "text/plain": [
       "array(['Female', 'Not specified', 'Male'], dtype=object)"
      ]
     },
     "execution_count": 77,
     "metadata": {},
     "output_type": "execute_result"
    }
   ],
   "source": [
    "df['Gender'].unique()"
   ]
  },
  {
   "cell_type": "code",
   "execution_count": 91,
   "id": "bfd87345-36d2-4080-ba7e-ad1a1c1446eb",
   "metadata": {},
   "outputs": [
    {
     "data": {
      "text/html": [
       "<div>\n",
       "<style scoped>\n",
       "    .dataframe tbody tr th:only-of-type {\n",
       "        vertical-align: middle;\n",
       "    }\n",
       "\n",
       "    .dataframe tbody tr th {\n",
       "        vertical-align: top;\n",
       "    }\n",
       "\n",
       "    .dataframe thead th {\n",
       "        text-align: right;\n",
       "    }\n",
       "</style>\n",
       "<table border=\"1\" class=\"dataframe\">\n",
       "  <thead>\n",
       "    <tr style=\"text-align: right;\">\n",
       "      <th></th>\n",
       "      <th>Customer_ID</th>\n",
       "      <th>Gender</th>\n",
       "      <th>Age</th>\n",
       "      <th>State</th>\n",
       "      <th>Occupation</th>\n",
       "      <th>Orders</th>\n",
       "      <th>Amount</th>\n",
       "    </tr>\n",
       "  </thead>\n",
       "  <tbody>\n",
       "    <tr>\n",
       "      <th>1025</th>\n",
       "      <td>CUST1585</td>\n",
       "      <td>Male</td>\n",
       "      <td>56.0</td>\n",
       "      <td>Karnataka</td>\n",
       "      <td>Engineer</td>\n",
       "      <td>6.0</td>\n",
       "      <td>500</td>\n",
       "    </tr>\n",
       "    <tr>\n",
       "      <th>1026</th>\n",
       "      <td>CUST1444</td>\n",
       "      <td>Female</td>\n",
       "      <td>56.0</td>\n",
       "      <td>Tamil Nadu</td>\n",
       "      <td>Undefined</td>\n",
       "      <td>8.0</td>\n",
       "      <td>Three Hundred</td>\n",
       "    </tr>\n",
       "    <tr>\n",
       "      <th>1027</th>\n",
       "      <td>CUST1732</td>\n",
       "      <td>Female</td>\n",
       "      <td>51.0</td>\n",
       "      <td>Tamil Nadu</td>\n",
       "      <td>Lawyer</td>\n",
       "      <td>5.0</td>\n",
       "      <td>100</td>\n",
       "    </tr>\n",
       "    <tr>\n",
       "      <th>1028</th>\n",
       "      <td>CUST1076</td>\n",
       "      <td>Female</td>\n",
       "      <td>46.0</td>\n",
       "      <td>Tamil Nadu</td>\n",
       "      <td>Engineer</td>\n",
       "      <td>9.0</td>\n",
       "      <td>200</td>\n",
       "    </tr>\n",
       "    <tr>\n",
       "      <th>1029</th>\n",
       "      <td>CUST1411</td>\n",
       "      <td>Female</td>\n",
       "      <td>18.0</td>\n",
       "      <td>Karnataka</td>\n",
       "      <td>Undefined</td>\n",
       "      <td>3.0</td>\n",
       "      <td>100</td>\n",
       "    </tr>\n",
       "  </tbody>\n",
       "</table>\n",
       "</div>"
      ],
      "text/plain": [
       "     Customer_ID  Gender   Age       State Occupation  Orders         Amount\n",
       "1025    CUST1585    Male  56.0   Karnataka   Engineer     6.0            500\n",
       "1026    CUST1444  Female  56.0  Tamil Nadu  Undefined     8.0  Three Hundred\n",
       "1027    CUST1732  Female  51.0  Tamil Nadu     Lawyer     5.0            100\n",
       "1028    CUST1076  Female  46.0  Tamil Nadu   Engineer     9.0            200\n",
       "1029    CUST1411  Female  18.0   Karnataka  Undefined     3.0            100"
      ]
     },
     "execution_count": 91,
     "metadata": {},
     "output_type": "execute_result"
    }
   ],
   "source": [
    "df['Age']=df['Age'].fillna(df['Age'].mean())\n",
    "df.tail()"
   ]
  },
  {
   "cell_type": "code",
   "execution_count": 81,
   "id": "311c9730-bd6c-4daf-9088-bf4fa9a02fd5",
   "metadata": {},
   "outputs": [
    {
     "data": {
      "text/plain": [
       "array(['delhi', 'maharastra', 'Delhi', 'KA', nan, 'Karnataka',\n",
       "       'Tamil Nadu', 'Maharashtra', 'TN'], dtype=object)"
      ]
     },
     "execution_count": 81,
     "metadata": {},
     "output_type": "execute_result"
    }
   ],
   "source": [
    "df['State'].unique()"
   ]
  },
  {
   "cell_type": "code",
   "execution_count": 83,
   "id": "aef88909-6f96-42b6-b708-77c473b7a422",
   "metadata": {},
   "outputs": [],
   "source": [
    "df['State']=df['State'].replace({'TN':'Tamil Nadu','delhi':'Delhi','KA':'Karnataka','maharastra':'Maharashtra'})\n",
    "df['State']=df['State'].fillna('Others')"
   ]
  },
  {
   "cell_type": "code",
   "execution_count": 85,
   "id": "24fa98cf-24ee-4c37-9890-21e2be649ea7",
   "metadata": {},
   "outputs": [
    {
     "data": {
      "text/plain": [
       "array(['Delhi', 'Maharashtra', 'Karnataka', 'Others', 'Tamil Nadu'],\n",
       "      dtype=object)"
      ]
     },
     "execution_count": 85,
     "metadata": {},
     "output_type": "execute_result"
    }
   ],
   "source": [
    "df['State'].unique()"
   ]
  },
  {
   "cell_type": "code",
   "execution_count": 87,
   "id": "8bbe9670-da8c-45c6-bce2-b7e1e26bf8db",
   "metadata": {},
   "outputs": [
    {
     "data": {
      "text/plain": [
       "array(['Engineer', 'Undefined', 'Teacher', 'Lawyer', 'engineer', 'Artist',\n",
       "       'Doctor'], dtype=object)"
      ]
     },
     "execution_count": 87,
     "metadata": {},
     "output_type": "execute_result"
    }
   ],
   "source": [
    "df['Occupation']=df['Occupation'].fillna('Undefined')\n",
    "df['Occupation'].unique()"
   ]
  },
  {
   "cell_type": "code",
   "execution_count": 89,
   "id": "9d17d5de-81a9-4d02-aadb-e0c9458d62c7",
   "metadata": {},
   "outputs": [
    {
     "data": {
      "text/plain": [
       "array(['Engineer', 'Undefined', 'Teacher', 'Lawyer', 'Artist', 'Doctor'],\n",
       "      dtype=object)"
      ]
     },
     "execution_count": 89,
     "metadata": {},
     "output_type": "execute_result"
    }
   ],
   "source": [
    "df['Occupation']=df['Occupation'].replace({'engineer':'Engineer'})\n",
    "df['Occupation'].unique()"
   ]
  },
  {
   "cell_type": "code",
   "execution_count": 116,
   "id": "513b7a80-8097-4706-87f7-efdf03b65832",
   "metadata": {},
   "outputs": [
    {
     "data": {
      "text/html": [
       "<div>\n",
       "<style scoped>\n",
       "    .dataframe tbody tr th:only-of-type {\n",
       "        vertical-align: middle;\n",
       "    }\n",
       "\n",
       "    .dataframe tbody tr th {\n",
       "        vertical-align: top;\n",
       "    }\n",
       "\n",
       "    .dataframe thead th {\n",
       "        text-align: right;\n",
       "    }\n",
       "</style>\n",
       "<table border=\"1\" class=\"dataframe\">\n",
       "  <thead>\n",
       "    <tr style=\"text-align: right;\">\n",
       "      <th></th>\n",
       "      <th>Customer_ID</th>\n",
       "      <th>Gender</th>\n",
       "      <th>Age</th>\n",
       "      <th>State</th>\n",
       "      <th>Occupation</th>\n",
       "      <th>Orders</th>\n",
       "      <th>Amount</th>\n",
       "    </tr>\n",
       "  </thead>\n",
       "  <tbody>\n",
       "    <tr>\n",
       "      <th>1011</th>\n",
       "      <td>CUST2011</td>\n",
       "      <td>Female</td>\n",
       "      <td>28.0</td>\n",
       "      <td>Maharashtra</td>\n",
       "      <td>Lawyer</td>\n",
       "      <td>5</td>\n",
       "      <td>500</td>\n",
       "    </tr>\n",
       "    <tr>\n",
       "      <th>610</th>\n",
       "      <td>CUST1610</td>\n",
       "      <td>Not specified</td>\n",
       "      <td>22.0</td>\n",
       "      <td>Tamil Nadu</td>\n",
       "      <td>Teacher</td>\n",
       "      <td>3</td>\n",
       "      <td>Three Hundred</td>\n",
       "    </tr>\n",
       "    <tr>\n",
       "      <th>758</th>\n",
       "      <td>CUST1758</td>\n",
       "      <td>Not specified</td>\n",
       "      <td>34.0</td>\n",
       "      <td>Tamil Nadu</td>\n",
       "      <td>Artist</td>\n",
       "      <td>2</td>\n",
       "      <td>500</td>\n",
       "    </tr>\n",
       "    <tr>\n",
       "      <th>441</th>\n",
       "      <td>CUST1441</td>\n",
       "      <td>Not specified</td>\n",
       "      <td>24.0</td>\n",
       "      <td>Delhi</td>\n",
       "      <td>Artist</td>\n",
       "      <td>7</td>\n",
       "      <td>Three Hundred</td>\n",
       "    </tr>\n",
       "    <tr>\n",
       "      <th>263</th>\n",
       "      <td>CUST1263</td>\n",
       "      <td>Female</td>\n",
       "      <td>45.0</td>\n",
       "      <td>Delhi</td>\n",
       "      <td>Engineer</td>\n",
       "      <td>1</td>\n",
       "      <td>200</td>\n",
       "    </tr>\n",
       "    <tr>\n",
       "      <th>466</th>\n",
       "      <td>CUST1466</td>\n",
       "      <td>Male</td>\n",
       "      <td>57.0</td>\n",
       "      <td>Karnataka</td>\n",
       "      <td>Doctor</td>\n",
       "      <td>9</td>\n",
       "      <td>200</td>\n",
       "    </tr>\n",
       "    <tr>\n",
       "      <th>703</th>\n",
       "      <td>CUST1703</td>\n",
       "      <td>Female</td>\n",
       "      <td>29.0</td>\n",
       "      <td>Maharashtra</td>\n",
       "      <td>Engineer</td>\n",
       "      <td>7</td>\n",
       "      <td>300</td>\n",
       "    </tr>\n",
       "    <tr>\n",
       "      <th>864</th>\n",
       "      <td>CUST1864</td>\n",
       "      <td>Not specified</td>\n",
       "      <td>39.0</td>\n",
       "      <td>Tamil Nadu</td>\n",
       "      <td>Artist</td>\n",
       "      <td>4</td>\n",
       "      <td>NaN</td>\n",
       "    </tr>\n",
       "    <tr>\n",
       "      <th>664</th>\n",
       "      <td>CUST1664</td>\n",
       "      <td>Male</td>\n",
       "      <td>43.0</td>\n",
       "      <td>Karnataka</td>\n",
       "      <td>Engineer</td>\n",
       "      <td>6</td>\n",
       "      <td>100</td>\n",
       "    </tr>\n",
       "    <tr>\n",
       "      <th>832</th>\n",
       "      <td>CUST1832</td>\n",
       "      <td>Female</td>\n",
       "      <td>41.0</td>\n",
       "      <td>Maharashtra</td>\n",
       "      <td>Engineer</td>\n",
       "      <td>7</td>\n",
       "      <td>200</td>\n",
       "    </tr>\n",
       "  </tbody>\n",
       "</table>\n",
       "</div>"
      ],
      "text/plain": [
       "     Customer_ID         Gender   Age        State Occupation  Orders  \\\n",
       "1011    CUST2011         Female  28.0  Maharashtra     Lawyer       5   \n",
       "610     CUST1610  Not specified  22.0   Tamil Nadu    Teacher       3   \n",
       "758     CUST1758  Not specified  34.0   Tamil Nadu     Artist       2   \n",
       "441     CUST1441  Not specified  24.0        Delhi     Artist       7   \n",
       "263     CUST1263         Female  45.0        Delhi   Engineer       1   \n",
       "466     CUST1466           Male  57.0    Karnataka     Doctor       9   \n",
       "703     CUST1703         Female  29.0  Maharashtra   Engineer       7   \n",
       "864     CUST1864  Not specified  39.0   Tamil Nadu     Artist       4   \n",
       "664     CUST1664           Male  43.0    Karnataka   Engineer       6   \n",
       "832     CUST1832         Female  41.0  Maharashtra   Engineer       7   \n",
       "\n",
       "             Amount  \n",
       "1011            500  \n",
       "610   Three Hundred  \n",
       "758             500  \n",
       "441   Three Hundred  \n",
       "263             200  \n",
       "466             200  \n",
       "703             300  \n",
       "864             NaN  \n",
       "664             100  \n",
       "832             200  "
      ]
     },
     "execution_count": 116,
     "metadata": {},
     "output_type": "execute_result"
    }
   ],
   "source": [
    "df['Orders']=df['Orders'].fillna(df['Orders'].mean()).round().astype(int)\n",
    "df['Age']=df['Age'].round()\n",
    "df.sample(10)"
   ]
  },
  {
   "cell_type": "code",
   "execution_count": 112,
   "id": "31a2847a-fda5-4eb4-bd51-e37455284cb5",
   "metadata": {},
   "outputs": [
    {
     "data": {
      "text/plain": [
       "array(['Three Hundred', '500', nan, '300', '100', '200'], dtype=object)"
      ]
     },
     "execution_count": 112,
     "metadata": {},
     "output_type": "execute_result"
    }
   ],
   "source": [
    "df['Amount'].unique()"
   ]
  },
  {
   "cell_type": "code",
   "execution_count": 139,
   "id": "5e4265f9-bb81-4f92-ada3-f79094fc1e5a",
   "metadata": {},
   "outputs": [
    {
     "data": {
      "text/html": [
       "<div>\n",
       "<style scoped>\n",
       "    .dataframe tbody tr th:only-of-type {\n",
       "        vertical-align: middle;\n",
       "    }\n",
       "\n",
       "    .dataframe tbody tr th {\n",
       "        vertical-align: top;\n",
       "    }\n",
       "\n",
       "    .dataframe thead th {\n",
       "        text-align: right;\n",
       "    }\n",
       "</style>\n",
       "<table border=\"1\" class=\"dataframe\">\n",
       "  <thead>\n",
       "    <tr style=\"text-align: right;\">\n",
       "      <th></th>\n",
       "      <th>Customer_ID</th>\n",
       "      <th>Gender</th>\n",
       "      <th>Age</th>\n",
       "      <th>State</th>\n",
       "      <th>Occupation</th>\n",
       "      <th>Orders</th>\n",
       "      <th>Amount</th>\n",
       "    </tr>\n",
       "  </thead>\n",
       "  <tbody>\n",
       "    <tr>\n",
       "      <th>109</th>\n",
       "      <td>CUST1109</td>\n",
       "      <td>Female</td>\n",
       "      <td>47.0</td>\n",
       "      <td>Delhi</td>\n",
       "      <td>Doctor</td>\n",
       "      <td>6</td>\n",
       "      <td>300</td>\n",
       "    </tr>\n",
       "    <tr>\n",
       "      <th>288</th>\n",
       "      <td>CUST1288</td>\n",
       "      <td>Male</td>\n",
       "      <td>20.0</td>\n",
       "      <td>Maharashtra</td>\n",
       "      <td>Engineer</td>\n",
       "      <td>3</td>\n",
       "      <td>300</td>\n",
       "    </tr>\n",
       "    <tr>\n",
       "      <th>428</th>\n",
       "      <td>CUST1428</td>\n",
       "      <td>Male</td>\n",
       "      <td>26.0</td>\n",
       "      <td>Karnataka</td>\n",
       "      <td>Engineer</td>\n",
       "      <td>4</td>\n",
       "      <td>500</td>\n",
       "    </tr>\n",
       "    <tr>\n",
       "      <th>893</th>\n",
       "      <td>CUST1893</td>\n",
       "      <td>Female</td>\n",
       "      <td>20.0</td>\n",
       "      <td>Tamil Nadu</td>\n",
       "      <td>Engineer</td>\n",
       "      <td>2</td>\n",
       "      <td>300</td>\n",
       "    </tr>\n",
       "    <tr>\n",
       "      <th>983</th>\n",
       "      <td>CUST1983</td>\n",
       "      <td>Female</td>\n",
       "      <td>44.0</td>\n",
       "      <td>Tamil Nadu</td>\n",
       "      <td>Lawyer</td>\n",
       "      <td>5</td>\n",
       "      <td>320</td>\n",
       "    </tr>\n",
       "    <tr>\n",
       "      <th>804</th>\n",
       "      <td>CUST1804</td>\n",
       "      <td>Female</td>\n",
       "      <td>22.0</td>\n",
       "      <td>Karnataka</td>\n",
       "      <td>Artist</td>\n",
       "      <td>1</td>\n",
       "      <td>100</td>\n",
       "    </tr>\n",
       "    <tr>\n",
       "      <th>752</th>\n",
       "      <td>CUST1752</td>\n",
       "      <td>Female</td>\n",
       "      <td>32.0</td>\n",
       "      <td>Delhi</td>\n",
       "      <td>Undefined</td>\n",
       "      <td>1</td>\n",
       "      <td>320</td>\n",
       "    </tr>\n",
       "    <tr>\n",
       "      <th>786</th>\n",
       "      <td>CUST1786</td>\n",
       "      <td>Not specified</td>\n",
       "      <td>40.0</td>\n",
       "      <td>Delhi</td>\n",
       "      <td>Doctor</td>\n",
       "      <td>1</td>\n",
       "      <td>300</td>\n",
       "    </tr>\n",
       "    <tr>\n",
       "      <th>91</th>\n",
       "      <td>CUST1091</td>\n",
       "      <td>Female</td>\n",
       "      <td>42.0</td>\n",
       "      <td>Others</td>\n",
       "      <td>Lawyer</td>\n",
       "      <td>5</td>\n",
       "      <td>200</td>\n",
       "    </tr>\n",
       "    <tr>\n",
       "      <th>718</th>\n",
       "      <td>CUST1718</td>\n",
       "      <td>Female</td>\n",
       "      <td>38.0</td>\n",
       "      <td>Delhi</td>\n",
       "      <td>Doctor</td>\n",
       "      <td>4</td>\n",
       "      <td>500</td>\n",
       "    </tr>\n",
       "  </tbody>\n",
       "</table>\n",
       "</div>"
      ],
      "text/plain": [
       "    Customer_ID         Gender   Age        State Occupation  Orders  Amount\n",
       "109    CUST1109         Female  47.0        Delhi     Doctor       6     300\n",
       "288    CUST1288           Male  20.0  Maharashtra   Engineer       3     300\n",
       "428    CUST1428           Male  26.0    Karnataka   Engineer       4     500\n",
       "893    CUST1893         Female  20.0   Tamil Nadu   Engineer       2     300\n",
       "983    CUST1983         Female  44.0   Tamil Nadu     Lawyer       5     320\n",
       "804    CUST1804         Female  22.0    Karnataka     Artist       1     100\n",
       "752    CUST1752         Female  32.0        Delhi  Undefined       1     320\n",
       "786    CUST1786  Not specified  40.0        Delhi     Doctor       1     300\n",
       "91     CUST1091         Female  42.0       Others     Lawyer       5     200\n",
       "718    CUST1718         Female  38.0        Delhi     Doctor       4     500"
      ]
     },
     "execution_count": 139,
     "metadata": {},
     "output_type": "execute_result"
    }
   ],
   "source": [
    "from word2number import w2n\n",
    "\n",
    "# Example: Convert entire Amount column\n",
    "df['Amount'] = df['Amount'].fillna(df['Amount'].mean().round())\n",
    "df['Amount'] = df['Amount'].apply(lambda x: w2n.word_to_num(x) if isinstance(x, str) else x)\n",
    "df.sample(10)"
   ]
  },
  {
   "cell_type": "code",
   "execution_count": 258,
   "id": "3846309e-6bf1-45d5-9710-7a5b5fccde3f",
   "metadata": {},
   "outputs": [
    {
     "name": "stdout",
     "output_type": "stream",
     "text": [
      "<class 'pandas.core.frame.DataFrame'>\n",
      "RangeIndex: 1030 entries, 0 to 1029\n",
      "Data columns (total 8 columns):\n",
      " #   Column            Non-Null Count  Dtype  \n",
      "---  ------            --------------  -----  \n",
      " 0   Customer_ID       1030 non-null   object \n",
      " 1   Gender            1030 non-null   object \n",
      " 2   Age               1030 non-null   float64\n",
      " 3   State             1030 non-null   object \n",
      " 4   Occupation        1030 non-null   object \n",
      " 5   Orders            1030 non-null   int32  \n",
      " 6   Amount            1030 non-null   int64  \n",
      " 7   Product_Category  1030 non-null   object \n",
      "dtypes: float64(1), int32(1), int64(1), object(5)\n",
      "memory usage: 60.5+ KB\n"
     ]
    }
   ],
   "source": [
    "df.info()"
   ]
  },
  {
   "cell_type": "code",
   "execution_count": 150,
   "id": "38f090ce-eb57-4f0a-928a-c4f2cd33c3a3",
   "metadata": {},
   "outputs": [
    {
     "data": {
      "text/plain": [
       "Customer_ID    0\n",
       "Gender         0\n",
       "Age            0\n",
       "State          0\n",
       "Occupation     0\n",
       "Orders         0\n",
       "Amount         0\n",
       "dtype: int64"
      ]
     },
     "execution_count": 150,
     "metadata": {},
     "output_type": "execute_result"
    }
   ],
   "source": [
    "df.isnull().sum()"
   ]
  },
  {
   "cell_type": "markdown",
   "id": "cf717892-6657-4459-878f-8c4fbe920284",
   "metadata": {},
   "source": [
    "### **There are no null values or missing values. We can move to our next step**"
   ]
  },
  {
   "cell_type": "markdown",
   "id": "f3dd7563-97bf-4e3f-a2f4-ba3e54742cfb",
   "metadata": {},
   "source": [
    "## **Exploratory Data Analysis:**"
   ]
  },
  {
   "cell_type": "code",
   "execution_count": 193,
   "id": "6c3f02ea-3951-4187-9684-01fcf9823c88",
   "metadata": {},
   "outputs": [
    {
     "data": {
      "image/png": "[encoded data removed]",
      "text/plain": [
       "<Figure size 1500x500 with 2 Axes>"
      ]
     },
     "metadata": {},
     "output_type": "display_data"
    }
   ],
   "source": [
    "#created subplots to show the distribution side by side in the single figure.\n",
    "\n",
    "gender_values = df['Gender'].value_counts()\n",
    "\n",
    "fig, ax = plt.subplots(1,2,figsize=(15,5))\n",
    "\n",
    "ax[0] = plt.subplot(1,2,1)\n",
    "ax[1] = plt.subplot(1,2,2)\n",
    "\n",
    "ax[0].pie(gender_values, labels=gender_values.index, autopct='%1.1f%%', startangle=90)\n",
    "ax[0].set_title('Gender Distribution')\n",
    "\n",
    "ax[1].hist(df['Age'], bins=5, color='Orange', edgecolor='Black')\n",
    "ax[1].set_xlabel('Age')\n",
    "ax[1].set_ylabel('No of customers')\n",
    "ax[1].set_title('Age Distribution')\n",
    "\n",
    "plt.tight_layout()\n",
    "plt.show()"
   ]
  },
  {
   "cell_type": "code",
   "execution_count": 239,
   "id": "50f5b641-19ad-4421-8b64-4e21b4476c2d",
   "metadata": {},
   "outputs": [
    {
     "data": {
      "image/png": "[encoded data removed]",
      "text/plain": [
       "<Figure size 1500x500 with 1 Axes>"
      ]
     },
     "metadata": {},
     "output_type": "display_data"
    }
   ],
   "source": [
    "Sales_by_Gender = df.groupby(['Gender'],as_index=False)['Amount'].sum()\n",
    "\n",
    "plt.figure(figsize=(15,5))\n",
    "plt.bar(Sales_by_Gender['Gender'], Sales_by_Gender['Amount'] , label='Sales')\n",
    "plt.xlabel('Gender')\n",
    "plt.ylabel('Sales')\n",
    "plt.title('Sales By Gender')\n",
    "plt.legend()\n",
    "plt.tight_layout()\n",
    "plt.show()\n"
   ]
  },
  {
   "cell_type": "markdown",
   "id": "3d557453-9c8a-481e-b4ad-0d31207f010d",
   "metadata": {},
   "source": [
    "#### **From the above graph we can observe that majority of our customers are Female customers.**"
   ]
  },
  {
   "cell_type": "code",
   "execution_count": 241,
   "id": "2d95478a-bcaa-4dd4-8812-164d6f26b8f5",
   "metadata": {},
   "outputs": [
    {
     "data": {
      "image/png": "[encoded data removed]",
      "text/plain": [
       "<Figure size 640x480 with 1 Axes>"
      ]
     },
     "metadata": {},
     "output_type": "display_data"
    }
   ],
   "source": [
    "Sales_By_State = df.groupby(['State'], as_index=False)['Amount'].sum().sort_values(by='Amount',ascending=False).head(3)\n",
    "\n",
    "plt.bar(Sales_By_State['State'], Sales_By_State['Amount'], color='Skyblue')\n",
    "plt.xlabel('State')\n",
    "plt.ylabel('Sales')\n",
    "plt.title('Top 3 revenue generating States')\n",
    "plt.tight_layout()\n",
    "plt.show()\n"
   ]
  },
  {
   "cell_type": "markdown",
   "id": "a53bddb7-9057-40e2-9203-108f89193edc",
   "metadata": {},
   "source": [
    "#### **This bar graph shows us that the Karnataka state is the top performing state in terms of sales.**"
   ]
  },
  {
   "cell_type": "code",
   "execution_count": 243,
   "id": "4b2399b8-d813-4ca8-ada5-8809c880a5d4",
   "metadata": {},
   "outputs": [
    {
     "data": {
      "image/png": "[encoded data removed]",
      "text/plain": [
       "<Figure size 640x480 with 1 Axes>"
      ]
     },
     "metadata": {},
     "output_type": "display_data"
    }
   ],
   "source": [
    "Sales_By_Occupation = df.groupby(['Occupation'], as_index=False)['Amount'].sum().sort_values(by='Amount',ascending=False).head(3)\n",
    "\n",
    "plt.barh(Sales_By_Occupation['Occupation'], Sales_By_Occupation['Amount'], color='Yellow')\n",
    "plt.xlabel('Sales')\n",
    "plt.ylabel('Occupation')\n",
    "plt.title('Top 3 Revenue Generating Occupations')\n",
    "plt.tight_layout()\n",
    "plt.show()"
   ]
  },
  {
   "cell_type": "markdown",
   "id": "a706edbf-8dac-40fe-a0b5-dc564f7dd57f",
   "metadata": {},
   "source": [
    "#### **From the above graph we can see that customers working in the field of Engineering are our top customers.**"
   ]
  },
  {
   "cell_type": "code",
   "execution_count": 247,
   "id": "17589171-bfb6-402f-9c1f-bcebfcd414d8",
   "metadata": {},
   "outputs": [
    {
     "data": {
      "image/png": "[encoded data removed]",
      "text/plain": [
       "<Figure size 640x480 with 1 Axes>"
      ]
     },
     "metadata": {},
     "output_type": "display_data"
    }
   ],
   "source": [
    "scatter_age = df.groupby(['Age'], as_index=False)['Amount'].sum()\n",
    "\n",
    "plt.scatter(scatter_age['Age'], scatter_age['Amount'], marker='o', color='Red')\n",
    "plt.xlabel('Age')\n",
    "plt.ylabel('Amount')\n",
    "plt.title('Relationship between Age and Purchase')\n",
    "plt.tight_layout()\n",
    "plt.show()"
   ]
  },
  {
   "cell_type": "markdown",
   "id": "12a4cb6e-b612-4d39-8b11-872a33619ceb",
   "metadata": {},
   "source": [
    "#### **This scatter plot gives the purchase amount per age and we can observe that customers with age 38 are the most revenue generating customers.**"
   ]
  },
  {
   "cell_type": "code",
   "execution_count": 276,
   "id": "5d0820ec-c951-40ad-b223-91f53a8a2743",
   "metadata": {},
   "outputs": [
    {
     "data": {
      "image/png": "[encoded data removed]",
      "text/plain": [
       "<Figure size 640x480 with 1 Axes>"
      ]
     },
     "metadata": {},
     "output_type": "display_data"
    }
   ],
   "source": [
    "sales_by_category = df.groupby(['Product_Category'], as_index=False)['Amount'].sum().sort_values(by='Amount', ascending=False).head(5)\n",
    "\n",
    "plt.bar(sales_by_category['Product_Category'], sales_by_category['Amount'], color='Coral')\n",
    "plt.xlabel('Product Catefory')\n",
    "plt.ylabel('Amount')\n",
    "plt.title('Top 5 Product Categories')\n",
    "plt.tight_layout()\n",
    "plt.show()"
   ]
  },
  {
   "cell_type": "markdown",
   "id": "de40f74b-dc74-4b1c-afef-f3b40c0306b8",
   "metadata": {},
   "source": [
    "#### **From the above graph we can see that Electronics is the most sold Product Category.**"
   ]
  },
  {
   "cell_type": "markdown",
   "id": "eb719e0f-5fa8-4c9a-ba68-dfda26990034",
   "metadata": {},
   "source": [
    "## **Conclusion:**"
   ]
  },
  {
   "cell_type": "markdown",
   "id": "b447c89e-21ff-4fd8-8627-66c69ee6daed",
   "metadata": {},
   "source": [
    "#### **Female customers with the age of 38 from the state of Karnataka working in the field of Engineering are our top customers.**"
   ]
  },
  {
   "cell_type": "markdown",
   "id": "7019b62a-544e-4864-9068-0637b8a059c3",
   "metadata": {},
   "source": [
    "# **THANK YOU**"
   ]
  }
 ],
 "metadata": {
  "kernelspec": {
   "display_name": "Python [conda env:base] *",
   "language": "python",
   "name": "conda-base-py"
  },
  "language_info": {
   "codemirror_mode": {
    "name": "ipython",
    "version": 3
   },
   "file_extension": ".py",
   "mimetype": "text/x-python",
   "name": "python",
   "nbconvert_exporter": "python",
   "pygments_lexer": "ipython3",
   "version": "3.12.7"
  }
 },
 "nbformat": 4,
 "nbformat_minor": 5
}
